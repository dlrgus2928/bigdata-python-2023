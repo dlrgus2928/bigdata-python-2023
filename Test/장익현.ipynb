{
 "cells": [
  {
   "attachments": {},
   "cell_type": "markdown",
   "metadata": {},
   "source": [
    "1. 입력한 주민번호를 통해서 남성과 여성을 구분할 수 있는 프로그램을 작성하세요.(1, 3, 5는 남성, 2, 4, 6은 여성입니다)"
   ]
  },
  {
   "cell_type": "code",
   "execution_count": 8,
   "metadata": {},
   "outputs": [
    {
     "name": "stdout",
     "output_type": "stream",
     "text": [
      "여성입니다.\n"
     ]
    }
   ],
   "source": [
    "val = input('주민번호를 입력하세요 : ')\n",
    "num = int(val[6])\n",
    "\n",
    "if num % 2 == 0:\n",
    "    print('여성입니다.')\n",
    "else:\n",
    "    print('남성입니다.')"
   ]
  },
  {
   "attachments": {},
   "cell_type": "markdown",
   "metadata": {},
   "source": [
    "2. 일주일의 영어명은 'MON', 'TUE', 'WED', 'TUR', 'FRI', 'SAT', 'SUN' 입니다. 이를 입력하면, '월요일' ~ '일요일' 까지 출력되는 프로그램을 작성하세요."
   ]
  },
  {
   "cell_type": "code",
   "execution_count": 16,
   "metadata": {},
   "outputs": [
    {
     "name": "stdout",
     "output_type": "stream",
     "text": [
      "일요일\n"
     ]
    }
   ],
   "source": [
    "eng = input('영어명을 입력하세요 : ')\n",
    "\n",
    "if eng == 'MON':\n",
    "    print('월요일')\n",
    "elif eng == 'TUE':\n",
    "    print('화요일')\n",
    "elif eng == 'WED':\n",
    "    print('수요일')\n",
    "elif eng == 'TUR':\n",
    "    print('목요일')\n",
    "elif eng == 'FRI':\n",
    "    print('금요일')\n",
    "elif eng == 'SAT':\n",
    "    print('토요일')\n",
    "elif eng == 'SUN':\n",
    "    print('일요일')\n",
    "\n"
   ]
  },
  {
   "attachments": {},
   "cell_type": "markdown",
   "metadata": {},
   "source": [
    "3. 나이를 입력하여 19세 미만 일 경우 입장을 못하게 하는 나이트클럽 입장 프로그램을 작성하세요. \n",
    "예) 나이를 입력, \n",
    "19세 미만 -> '애들은 가라'\n",
    "19세 이상 -> '어서오십시오, 손님~!!'"
   ]
  },
  {
   "cell_type": "code",
   "execution_count": 19,
   "metadata": {},
   "outputs": [
    {
     "name": "stdout",
     "output_type": "stream",
     "text": [
      "애들은 가라\n"
     ]
    }
   ],
   "source": [
    "age = int(input('나이를 입력하세요 : '))\n",
    "\n",
    "if age < 19:\n",
    "    print('애들은 가라')\n",
    "else:\n",
    "    print('어서오십시오, 손님~!!')"
   ]
  },
  {
   "attachments": {},
   "cell_type": "markdown",
   "metadata": {},
   "source": [
    "4. while문을 사용하여 1부터 10000까지 내에서 3과 5의 배수를 모두 구하여, result.txt에 저장하는 프로그램을 작성하세요."
   ]
  },
  {
   "cell_type": "code",
   "execution_count": 26,
   "metadata": {},
   "outputs": [],
   "source": [
    "with open('result.txt', 'w') as file:\n",
    "    for num in range(1, 10001):\n",
    "        if num % 3 == 0 or num % 5 == 0:\n",
    "            file.write(str(num) + '\\n')\n",
    "file.close()"
   ]
  },
  {
   "attachments": {},
   "cell_type": "markdown",
   "metadata": {},
   "source": [
    "5. datetime 모듈을 사용하여, 현재 날짜와 시간을 아래와 같은 형식으로 출력하는 프로그램을 작성하세요.\n",
    "예) 2023\\06-21 16*25%32"
   ]
  },
  {
   "cell_type": "code",
   "execution_count": 27,
   "metadata": {},
   "outputs": [
    {
     "name": "stdout",
     "output_type": "stream",
     "text": [
      "2023\\07-04 09*44%43\n"
     ]
    }
   ],
   "source": [
    "import datetime\n",
    "\n",
    "now = datetime.datetime.now()\n",
    "date = now.strftime('%Y\\\\%m-%d %H*%M%%%S')\n",
    "print(date)"
   ]
  },
  {
   "cell_type": "markdown",
   "metadata": {},
   "source": []
  }
 ],
 "metadata": {
  "kernelspec": {
   "display_name": "Python 3",
   "language": "python",
   "name": "python3"
  },
  "language_info": {
   "codemirror_mode": {
    "name": "ipython",
    "version": 3
   },
   "file_extension": ".py",
   "mimetype": "text/x-python",
   "name": "python",
   "nbconvert_exporter": "python",
   "pygments_lexer": "ipython3",
   "version": "3.11.4"
  },
  "orig_nbformat": 4,
  "vscode": {
   "interpreter": {
    "hash": "5238573367df39f7286bb46f9ff5f08f63a01a80960060ce41e3c79b190280fa"
   }
  }
 },
 "nbformat": 4,
 "nbformat_minor": 2
}
