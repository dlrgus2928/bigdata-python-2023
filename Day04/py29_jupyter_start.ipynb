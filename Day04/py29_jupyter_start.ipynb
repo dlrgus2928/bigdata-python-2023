{
 "cells": [
  {
   "attachments": {},
   "cell_type": "markdown",
   "metadata": {},
   "source": [
    "# 주피터 노트북 기본\n",
    "\n",
    "## 셀 추가/삭제\n",
    "- 코드버튼 클릭 - Python 코드 셀 추가\n",
    "- Markdown버튼 클릭 = 마크다운 셀 추가\n",
    "\n",
    "### 단축키\n",
    "- Ctrl + Enter : 셀 실행\n",
    "- Shift + Enter : 실행 후 새로운 셀 추가\n",
    "- Enter : 현재 셀 진입\n",
    "- ESC : 현재 셀 빠져나가기\n",
    "- B : 현재 셀 아래 새 셀 추가\n",
    "- A : 현재 셀 위 새 셀 추가\n",
    "- M : 현재 셀 (Python) -> Markdown 셀 변경\n",
    "- Y : 현재 셀 (Markdown) -> Python 셀 변경\n",
    "- Shift + L : 셀 라인번호 표시 On/Off"
   ]
  },
  {
   "cell_type": "code",
   "execution_count": 7,
   "metadata": {},
   "outputs": [
    {
     "name": "stdout",
     "output_type": "stream",
     "text": [
      "여기는 파이썬 셀\n"
     ]
    }
   ],
   "source": [
    "print('여기는 파이썬 셀')"
   ]
  },
  {
   "attachments": {},
   "cell_type": "markdown",
   "metadata": {},
   "source": [
    "## 일반출력\n",
    "```python\n",
    "print('Hello, python!')\n",
    "```"
   ]
  },
  {
   "cell_type": "code",
   "execution_count": 6,
   "metadata": {},
   "outputs": [
    {
     "name": "stdout",
     "output_type": "stream",
     "text": [
      "Hi~\n"
     ]
    }
   ],
   "source": [
    "print('Hi~')"
   ]
  },
  {
   "attachments": {},
   "cell_type": "markdown",
   "metadata": {},
   "source": [
    "### 이미지 추가\n",
    "<img src=\"https://img.freepik.com/premium-photo/white-cockatoo-studio_87557-2750.jpg?w=740\" height=\"400\">\n",
    "<img src=\"https://media.tenor.com/gcJ_J1YsR54AAAAd/parrot-cat.gif\" width=\"400\">\n",
    "\n",
    "---\n",
    "\n",
    "|제목|내용|비고|\n",
    "|:-----|----------:|:----:|\n",
    "|제목1|내용1|비고1|\n",
    "|제목2|내용2|비고2|\n",
    "|제목3|내용3|비고3|\n",
    "|제목4|내용입니다.|비고4|\n",
    "|제목입니다.|내용4|비고입니다|"
   ]
  },
  {
   "attachments": {},
   "cell_type": "markdown",
   "metadata": {},
   "source": [
    "### 주피터 노트북 디버깅\n",
    "\n",
    "- 브레이크 포인트(중단점 클릭)\n",
    "- Ctrl + Shift + Alt + Enter\n",
    "    - py 디버깅과 동일(F10, F11)"
   ]
  },
  {
   "cell_type": "code",
   "execution_count": 22,
   "metadata": {},
   "outputs": [],
   "source": [
    "# 나누기 함수\n",
    "def divide(x, y):\n",
    "    result = ''\n",
    "    try:\n",
    "        result = x // y\n",
    "    except Exception as e:\n",
    "        print(f'예외발생 : {e}')\n",
    "\n",
    "    print('나누기 완료')\n",
    "    return result\n"
   ]
  },
  {
   "cell_type": "code",
   "execution_count": 12,
   "metadata": {},
   "outputs": [
    {
     "name": "stdout",
     "output_type": "stream",
     "text": [
      "예외발생 : integer division or modulo by zero\n",
      "나누기 완료\n",
      "\n"
     ]
    }
   ],
   "source": [
    "print(divide(7,0))"
   ]
  },
  {
   "attachments": {},
   "cell_type": "markdown",
   "metadata": {},
   "source": [
    "### 출력 Python과 차이점\n",
    "\n",
    "변수 출력할 때\n",
    "- 변수명만 입력 후 실행해도 결과출력\n",
    "- print()도 동일하게 출력\n",
    "    - 단, 변수만 쓸 때는 제일 마지막 변수만 출력\n",
    "    - 여러번 출력하고 싶으면 print() 사용\n",
    "    - 하지만, 변수를 그냥 출력할 때와 print() 출력 때랑 결과 다름!"
   ]
  },
  {
   "cell_type": "code",
   "execution_count": 27,
   "metadata": {},
   "outputs": [
    {
     "data": {
      "text/plain": [
       "'Hello Python!'"
      ]
     },
     "execution_count": 27,
     "metadata": {},
     "output_type": "execute_result"
    }
   ],
   "source": [
    "a = 'Hello Python!'\n",
    "a"
   ]
  },
  {
   "cell_type": "code",
   "execution_count": 28,
   "metadata": {},
   "outputs": [
    {
     "name": "stdout",
     "output_type": "stream",
     "text": [
      "Hello Python!\n"
     ]
    }
   ],
   "source": [
    "a\n",
    "print(a)"
   ]
  },
  {
   "cell_type": "code",
   "execution_count": 24,
   "metadata": {},
   "outputs": [
    {
     "name": "stdout",
     "output_type": "stream",
     "text": [
      "Hello Python!\n",
      "Hello Python!\n"
     ]
    }
   ],
   "source": [
    "print(a)\n",
    "print(a)"
   ]
  },
  {
   "attachments": {},
   "cell_type": "markdown",
   "metadata": {},
   "source": [
    "#### 경로 문제 해결\n",
    "\n",
    ".py에서의 파일 경로와 .ipynb 경로가 다름\n",
    "- .py : ./Day04/dummy_members.csv\n",
    "- .ipynb : ./dummy_members.csv"
   ]
  },
  {
   "cell_type": "code",
   "execution_count": 30,
   "metadata": {},
   "outputs": [
    {
     "data": {
      "text/html": [
       "<div>\n",
       "<style scoped>\n",
       "    .dataframe tbody tr th:only-of-type {\n",
       "        vertical-align: middle;\n",
       "    }\n",
       "\n",
       "    .dataframe tbody tr th {\n",
       "        vertical-align: top;\n",
       "    }\n",
       "\n",
       "    .dataframe thead th {\n",
       "        text-align: right;\n",
       "    }\n",
       "</style>\n",
       "<table border=\"1\" class=\"dataframe\">\n",
       "  <thead>\n",
       "    <tr style=\"text-align: right;\">\n",
       "      <th></th>\n",
       "      <th>Unnamed: 0</th>\n",
       "      <th>이름</th>\n",
       "      <th>우편번호</th>\n",
       "      <th>주소</th>\n",
       "      <th>전화번호</th>\n",
       "      <th>이메일</th>\n",
       "    </tr>\n",
       "  </thead>\n",
       "  <tbody>\n",
       "    <tr>\n",
       "      <th>0</th>\n",
       "      <td>0</td>\n",
       "      <td>박지민</td>\n",
       "      <td>45067</td>\n",
       "      <td>대전광역시 금천구 개포로 (서윤문이읍)</td>\n",
       "      <td>010-3984-5397</td>\n",
       "      <td>jihyei@example.net</td>\n",
       "    </tr>\n",
       "    <tr>\n",
       "      <th>1</th>\n",
       "      <td>1</td>\n",
       "      <td>김정웅</td>\n",
       "      <td>3883</td>\n",
       "      <td>제주특별자치도 청주시 흥덕구 영동대97길</td>\n",
       "      <td>02-8559-7137</td>\n",
       "      <td>seungminheo@example.net</td>\n",
       "    </tr>\n",
       "    <tr>\n",
       "      <th>2</th>\n",
       "      <td>2</td>\n",
       "      <td>문은지</td>\n",
       "      <td>90372</td>\n",
       "      <td>인천광역시 광진구 잠실69로</td>\n",
       "      <td>019-906-1071</td>\n",
       "      <td>sugjai@example.com</td>\n",
       "    </tr>\n",
       "    <tr>\n",
       "      <th>3</th>\n",
       "      <td>3</td>\n",
       "      <td>김예준</td>\n",
       "      <td>75466</td>\n",
       "      <td>경상북도 강릉시 역삼로</td>\n",
       "      <td>054-463-4341</td>\n",
       "      <td>eunjui@example.net</td>\n",
       "    </tr>\n",
       "    <tr>\n",
       "      <th>4</th>\n",
       "      <td>4</td>\n",
       "      <td>최도윤</td>\n",
       "      <td>91322</td>\n",
       "      <td>인천광역시 강남구 가락8로</td>\n",
       "      <td>041-888-7699</td>\n",
       "      <td>jia87@example.net</td>\n",
       "    </tr>\n",
       "    <tr>\n",
       "      <th>5</th>\n",
       "      <td>5</td>\n",
       "      <td>박미숙</td>\n",
       "      <td>76246</td>\n",
       "      <td>경상남도 계룡시 테헤란로</td>\n",
       "      <td>044-130-0614</td>\n",
       "      <td>sheo@example.org</td>\n",
       "    </tr>\n",
       "    <tr>\n",
       "      <th>6</th>\n",
       "      <td>6</td>\n",
       "      <td>김은서</td>\n",
       "      <td>64487</td>\n",
       "      <td>경상남도 이천시 논현8가 (숙자김박마을)</td>\n",
       "      <td>064-792-7286</td>\n",
       "      <td>ryumigyeong@example.org</td>\n",
       "    </tr>\n",
       "    <tr>\n",
       "      <th>7</th>\n",
       "      <td>7</td>\n",
       "      <td>이승현</td>\n",
       "      <td>54690</td>\n",
       "      <td>전라북도 과천시 논현32가</td>\n",
       "      <td>042-353-9422</td>\n",
       "      <td>songhyeonjun@example.org</td>\n",
       "    </tr>\n",
       "    <tr>\n",
       "      <th>8</th>\n",
       "      <td>8</td>\n",
       "      <td>강지현</td>\n",
       "      <td>29985</td>\n",
       "      <td>경상남도 당진시 도산대거리</td>\n",
       "      <td>02-3145-0810</td>\n",
       "      <td>hayun72@example.net</td>\n",
       "    </tr>\n",
       "    <tr>\n",
       "      <th>9</th>\n",
       "      <td>9</td>\n",
       "      <td>김은경</td>\n",
       "      <td>22859</td>\n",
       "      <td>부산광역시 동작구 선릉거리 (보람배이읍)</td>\n",
       "      <td>041-638-1234</td>\n",
       "      <td>minjun25@example.net</td>\n",
       "    </tr>\n",
       "  </tbody>\n",
       "</table>\n",
       "</div>"
      ],
      "text/plain": [
       "   Unnamed: 0   이름   우편번호                      주소           전화번호  \\\n",
       "0           0  박지민  45067   대전광역시 금천구 개포로 (서윤문이읍)  010-3984-5397   \n",
       "1           1  김정웅   3883  제주특별자치도 청주시 흥덕구 영동대97길   02-8559-7137   \n",
       "2           2  문은지  90372         인천광역시 광진구 잠실69로   019-906-1071   \n",
       "3           3  김예준  75466            경상북도 강릉시 역삼로   054-463-4341   \n",
       "4           4  최도윤  91322          인천광역시 강남구 가락8로   041-888-7699   \n",
       "5           5  박미숙  76246           경상남도 계룡시 테헤란로   044-130-0614   \n",
       "6           6  김은서  64487  경상남도 이천시 논현8가 (숙자김박마을)   064-792-7286   \n",
       "7           7  이승현  54690          전라북도 과천시 논현32가   042-353-9422   \n",
       "8           8  강지현  29985          경상남도 당진시 도산대거리   02-3145-0810   \n",
       "9           9  김은경  22859  부산광역시 동작구 선릉거리 (보람배이읍)   041-638-1234   \n",
       "\n",
       "                        이메일  \n",
       "0        jihyei@example.net  \n",
       "1   seungminheo@example.net  \n",
       "2        sugjai@example.com  \n",
       "3        eunjui@example.net  \n",
       "4         jia87@example.net  \n",
       "5          sheo@example.org  \n",
       "6   ryumigyeong@example.org  \n",
       "7  songhyeonjun@example.org  \n",
       "8       hayun72@example.net  \n",
       "9      minjun25@example.net  "
      ]
     },
     "execution_count": 30,
     "metadata": {},
     "output_type": "execute_result"
    }
   ],
   "source": [
    "import pandas as pd\n",
    "\n",
    "df = pd.read_csv('./dummy_members.csv') #  주의점! Jupyter Notebook에서는 같은 폴더의 파일을 읽을 때 폴더명X\n",
    "df"
   ]
  },
  {
   "cell_type": "code",
   "execution_count": 31,
   "metadata": {},
   "outputs": [
    {
     "data": {
      "text/plain": [
       "'c:\\\\Users\\\\Administrator\\\\eclipse-workspace\\\\bigdata-python-2023\\\\Day04'"
      ]
     },
     "execution_count": 31,
     "metadata": {},
     "output_type": "execute_result"
    }
   ],
   "source": [
    "import os\n",
    "\n",
    "os.getcwd()"
   ]
  },
  {
   "attachments": {},
   "cell_type": "markdown",
   "metadata": {},
   "source": [
    "### 출력초과 문제\n",
    "\n",
    "콘솔이나 Jupyter 셀 출력 전체가 나오지 않는 현상(성능적 문제 때문에 제약)\n",
    "\n",
    " + pd.options.display.max_columns = None\n",
    " + pd.options.display.max_rows = None"
   ]
  },
  {
   "cell_type": "code",
   "execution_count": 34,
   "metadata": {},
   "outputs": [
    {
     "data": {
      "text/html": [
       "<div>\n",
       "<style scoped>\n",
       "    .dataframe tbody tr th:only-of-type {\n",
       "        vertical-align: middle;\n",
       "    }\n",
       "\n",
       "    .dataframe tbody tr th {\n",
       "        vertical-align: top;\n",
       "    }\n",
       "\n",
       "    .dataframe thead th {\n",
       "        text-align: right;\n",
       "    }\n",
       "</style>\n",
       "<table border=\"1\" class=\"dataframe\">\n",
       "  <thead>\n",
       "    <tr style=\"text-align: right;\">\n",
       "      <th></th>\n",
       "      <th>이름</th>\n",
       "      <th>우편번호</th>\n",
       "      <th>주소</th>\n",
       "      <th>전화번호</th>\n",
       "      <th>이메일</th>\n",
       "    </tr>\n",
       "  </thead>\n",
       "  <tbody>\n",
       "    <tr>\n",
       "      <th>0</th>\n",
       "      <td>황종수</td>\n",
       "      <td>22172</td>\n",
       "      <td>경기도 부천시 오정구 서초중앙가</td>\n",
       "      <td>010-7473-2961</td>\n",
       "      <td>seoyeonryu@example.net</td>\n",
       "    </tr>\n",
       "    <tr>\n",
       "      <th>1</th>\n",
       "      <td>남성민</td>\n",
       "      <td>95536</td>\n",
       "      <td>제주특별자치도 고양시 일산서구 역삼590로</td>\n",
       "      <td>061-263-5708</td>\n",
       "      <td>bagseonghyeon@example.net</td>\n",
       "    </tr>\n",
       "    <tr>\n",
       "      <th>2</th>\n",
       "      <td>박경숙</td>\n",
       "      <td>49640</td>\n",
       "      <td>광주광역시 광진구 개포거리 (보람진동)</td>\n",
       "      <td>017-807-2911</td>\n",
       "      <td>ijuweon@example.com</td>\n",
       "    </tr>\n",
       "    <tr>\n",
       "      <th>3</th>\n",
       "      <td>박지연</td>\n",
       "      <td>47896</td>\n",
       "      <td>세종특별자치시 동작구 가락거리 (현정지김동)</td>\n",
       "      <td>011-673-1138</td>\n",
       "      <td>minseog94@example.com</td>\n",
       "    </tr>\n",
       "    <tr>\n",
       "      <th>4</th>\n",
       "      <td>김민지</td>\n",
       "      <td>8232</td>\n",
       "      <td>강원도 안양시 만안구 오금11가 (준서고문읍)</td>\n",
       "      <td>053-243-0954</td>\n",
       "      <td>vhwang@example.net</td>\n",
       "    </tr>\n",
       "    <tr>\n",
       "      <th>...</th>\n",
       "      <td>...</td>\n",
       "      <td>...</td>\n",
       "      <td>...</td>\n",
       "      <td>...</td>\n",
       "      <td>...</td>\n",
       "    </tr>\n",
       "    <tr>\n",
       "      <th>995</th>\n",
       "      <td>김서윤</td>\n",
       "      <td>98274</td>\n",
       "      <td>충청남도 오산시 영동대936가 (동현이박면)</td>\n",
       "      <td>032-218-2757</td>\n",
       "      <td>gwangsuseo@example.org</td>\n",
       "    </tr>\n",
       "    <tr>\n",
       "      <th>996</th>\n",
       "      <td>박민석</td>\n",
       "      <td>72622</td>\n",
       "      <td>울산광역시 남구 영동대길</td>\n",
       "      <td>017-338-5439</td>\n",
       "      <td>sanghuni@example.org</td>\n",
       "    </tr>\n",
       "    <tr>\n",
       "      <th>997</th>\n",
       "      <td>장정자</td>\n",
       "      <td>54372</td>\n",
       "      <td>울산광역시 영등포구 선릉0로 (명숙한김면)</td>\n",
       "      <td>062-645-5178</td>\n",
       "      <td>agim@example.net</td>\n",
       "    </tr>\n",
       "    <tr>\n",
       "      <th>998</th>\n",
       "      <td>이병철</td>\n",
       "      <td>78712</td>\n",
       "      <td>제주특별자치도 화천군 서초대417가</td>\n",
       "      <td>064-732-9691</td>\n",
       "      <td>yeeungim@example.org</td>\n",
       "    </tr>\n",
       "    <tr>\n",
       "      <th>999</th>\n",
       "      <td>김순옥</td>\n",
       "      <td>44514</td>\n",
       "      <td>대구광역시 송파구 개포44길</td>\n",
       "      <td>042-765-5243</td>\n",
       "      <td>yeongsug66@example.org</td>\n",
       "    </tr>\n",
       "  </tbody>\n",
       "</table>\n",
       "<p>1000 rows × 5 columns</p>\n",
       "</div>"
      ],
      "text/plain": [
       "      이름   우편번호                         주소           전화번호  \\\n",
       "0    황종수  22172          경기도 부천시 오정구 서초중앙가  010-7473-2961   \n",
       "1    남성민  95536    제주특별자치도 고양시 일산서구 역삼590로   061-263-5708   \n",
       "2    박경숙  49640      광주광역시 광진구 개포거리 (보람진동)   017-807-2911   \n",
       "3    박지연  47896   세종특별자치시 동작구 가락거리 (현정지김동)   011-673-1138   \n",
       "4    김민지   8232  강원도 안양시 만안구 오금11가 (준서고문읍)   053-243-0954   \n",
       "..   ...    ...                        ...            ...   \n",
       "995  김서윤  98274   충청남도 오산시 영동대936가 (동현이박면)   032-218-2757   \n",
       "996  박민석  72622              울산광역시 남구 영동대길   017-338-5439   \n",
       "997  장정자  54372    울산광역시 영등포구 선릉0로 (명숙한김면)   062-645-5178   \n",
       "998  이병철  78712        제주특별자치도 화천군 서초대417가   064-732-9691   \n",
       "999  김순옥  44514            대구광역시 송파구 개포44길   042-765-5243   \n",
       "\n",
       "                           이메일  \n",
       "0       seoyeonryu@example.net  \n",
       "1    bagseonghyeon@example.net  \n",
       "2          ijuweon@example.com  \n",
       "3        minseog94@example.com  \n",
       "4           vhwang@example.net  \n",
       "..                         ...  \n",
       "995     gwangsuseo@example.org  \n",
       "996       sanghuni@example.org  \n",
       "997           agim@example.net  \n",
       "998       yeeungim@example.org  \n",
       "999     yeongsug66@example.org  \n",
       "\n",
       "[1000 rows x 5 columns]"
      ]
     },
     "execution_count": 34,
     "metadata": {},
     "output_type": "execute_result"
    }
   ],
   "source": [
    "pd.options.display.max_columns = 10\n",
    "pd.options.display.max_rows = 100\n",
    "data = pd.read_csv('./dummy_members2.csv', encoding = 'utf-8')\n",
    "data"
   ]
  }
 ],
 "metadata": {
  "kernelspec": {
   "display_name": "Python 3",
   "language": "python",
   "name": "python3"
  },
  "language_info": {
   "codemirror_mode": {
    "name": "ipython",
    "version": 3
   },
   "file_extension": ".py",
   "mimetype": "text/x-python",
   "name": "python",
   "nbconvert_exporter": "python",
   "pygments_lexer": "ipython3",
   "version": "3.11.4"
  },
  "orig_nbformat": 4,
  "vscode": {
   "interpreter": {
    "hash": "5238573367df39f7286bb46f9ff5f08f63a01a80960060ce41e3c79b190280fa"
   }
  }
 },
 "nbformat": 4,
 "nbformat_minor": 2
}
