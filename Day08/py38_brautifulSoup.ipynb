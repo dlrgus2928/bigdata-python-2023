{
 "cells": [
  {
   "attachments": {},
   "cell_type": "markdown",
   "metadata": {},
   "source": [
    "#### BeatifulSoup 모듈\n",
    "\n",
    "- 정적인 웹페이지(그냥 페이지를 긁어오는 것) 크롤링에 적합\n",
    "\n",
    "```python\n",
    "!pip install\n",
    "```"
   ]
  },
  {
   "cell_type": "code",
   "execution_count": 1,
   "metadata": {},
   "outputs": [
    {
     "name": "stdout",
     "output_type": "stream",
     "text": [
      "Collecting beautifulsoup4\n",
      "  Downloading beautifulsoup4-4.12.2-py3-none-any.whl (142 kB)\n",
      "                                              0.0/143.0 kB ? eta -:--:--\n",
      "     -------------------------------------- 143.0/143.0 kB 8.8 MB/s eta 0:00:00\n",
      "Collecting soupsieve>1.2 (from beautifulsoup4)\n",
      "  Downloading soupsieve-2.4.1-py3-none-any.whl (36 kB)\n",
      "Installing collected packages: soupsieve, beautifulsoup4\n",
      "Successfully installed beautifulsoup4-4.12.2 soupsieve-2.4.1\n"
     ]
    }
   ],
   "source": [
    "# 설치\n",
    "!pip install beautifulsoup4"
   ]
  },
  {
   "cell_type": "code",
   "execution_count": 2,
   "metadata": {},
   "outputs": [
    {
     "name": "stdout",
     "output_type": "stream",
     "text": [
      "Collecting requests\n",
      "  Downloading requests-2.31.0-py3-none-any.whl (62 kB)\n",
      "                                              0.0/62.6 kB ? eta -:--:--\n",
      "     ---------------------------------------- 62.6/62.6 kB 3.5 MB/s eta 0:00:00\n",
      "Collecting charset-normalizer<4,>=2 (from requests)\n",
      "  Downloading charset_normalizer-3.1.0-cp311-cp311-win_amd64.whl (96 kB)\n",
      "                                              0.0/96.7 kB ? eta -:--:--\n",
      "     ---------------------------------------- 96.7/96.7 kB ? eta 0:00:00\n",
      "Requirement already satisfied: idna<4,>=2.5 in c:\\program files\\python311\\lib\\site-packages (from requests) (3.4)\n",
      "Requirement already satisfied: urllib3<3,>=1.21.1 in c:\\program files\\python311\\lib\\site-packages (from requests) (2.0.3)\n",
      "Requirement already satisfied: certifi>=2017.4.17 in c:\\program files\\python311\\lib\\site-packages (from requests) (2023.5.7)\n",
      "Installing collected packages: charset-normalizer, requests\n",
      "Successfully installed charset-normalizer-3.1.0 requests-2.31.0\n"
     ]
    }
   ],
   "source": [
    "!pip install requests"
   ]
  },
  {
   "cell_type": "code",
   "execution_count": 4,
   "metadata": {},
   "outputs": [],
   "source": [
    "import requests\n",
    "from bs4 import BeautifulSoup\n",
    "\n",
    "url = 'https://comic.naver.com/webtoon'\n",
    "res = requests.get(url)\n",
    "res.raise_for_status()\n",
    "\n",
    "html = BeautifulSoup(res.text)"
   ]
  },
  {
   "cell_type": "code",
   "execution_count": 5,
   "metadata": {},
   "outputs": [
    {
     "data": {
      "text/plain": [
       "\n",
       "<!DOCTYPE html>\n",
       "\n",
       "<html lang=\"ko\">\n",
       "<head>\n",
       "<title>네이버 웹툰</title>\n",
       "<link href=\"https://ssl.pstatic.net/static/m/comic/im/favicon/1804/webtoon_favicon_32x32.ico\" rel=\"shortcut icon\" type=\"image/x-icon\"/>\n",
       "<meta charset=\"utf-8\"/>\n",
       "<meta content=\"ie=edge\" http-equiv=\"x-ua-compatible\"/>\n",
       "<meta content=\"article\" property=\"og:type\"/>\n",
       "<meta content=\"네이버 웹툰\" property=\"og:article:author\"/>\n",
       "<meta content=\"https://comic.naver.com\" property=\"og:article:author:url\"/>\n",
       "<meta content=\"네이버 웹툰\" property=\"og:title\"/>\n",
       "<meta content=\"https://ssl.pstatic.net/static/comic/images/og_tag_v2.png\" property=\"og:image\"/>\n",
       "<meta content=\"매일매일 새로운 재미, 네이버 웹툰.\" property=\"og:description\"/>\n",
       "<script>\n",
       "\t\tif (/MSIE \\d|Trident.*rv:/.test(navigator.userAgent)) {\n",
       "\t\t\twindow.location = 'microsoft-edge:' + window.location;\n",
       "\t\t\tsetTimeout(function () {\n",
       "\t\t\t\twindow.location = 'https://go.microsoft.com/fwlink/?linkid=2135547';\n",
       "\t\t\t}, 1);\n",
       "\t\t}\n",
       "\t</script>\n",
       "<script async=\"\" src=\"https://ssl.pstatic.net/tveta/libs/glad/prod/gfp-core.js\"></script>\n",
       "<script>\n",
       "\t\tvar ccsrv = 'cc.naver.com';\n",
       "\t\twindow.gladsdk = window.gladsdk || { cmd: [] };\n",
       "\t</script>\n",
       "</head>\n",
       "<body>\n",
       "<div id=\"root\"></div>\n",
       "</body>\n",
       "<script src=\"/runtime-997449e3bbc391b95375.js\" type=\"text/javascript\"></script>\n",
       "<script src=\"/vendor-react-d37d9c657a271200d9cf.js\" type=\"text/javascript\"></script>\n",
       "<script src=\"/vendor-react-common-9fc837dada41110dc1fd.js\" type=\"text/javascript\"></script>\n",
       "<script src=\"/vendor-common-0b0b0cc3031d3b0a1965.js\" type=\"text/javascript\"></script>\n",
       "<script src=\"/vendor-log-8df3dc520d958957bcbd.js\" type=\"text/javascript\"></script>\n",
       "<script src=\"/router-08fcd57cb4d630efd408.js\" type=\"text/javascript\"></script>\n",
       "</html>"
      ]
     },
     "execution_count": 5,
     "metadata": {},
     "output_type": "execute_result"
    }
   ],
   "source": [
    "html # 네이버 웹툰은 크롤링을 방지하기 위한 설비가 되어있음"
   ]
  },
  {
   "cell_type": "code",
   "execution_count": 10,
   "metadata": {},
   "outputs": [
    {
     "data": {
      "text/plain": [
       " <!DOCTYPE html>\n",
       "\n",
       "<html lang=\"en\">\n",
       "<head>\n",
       "<meta content=\"text/html; charset=utf-8\" http-equiv=\"Content-Type\"/>\n",
       "<meta content=\"IE=Edge,chrome=1\" http-equiv=\"X-UA-Compatible\"/>\n",
       "<meta content=\"width=device-width, initial-scale=1, minimum-scale=1, maximum-scale=1, user-scalable=no\" name=\"viewport\"/>\n",
       "<title>Eco marine</title>\n",
       "<link href=\"img/favicon_io/apple-touch-icon.png\" rel=\"apple-touch-icon\" sizes=\"180x180\"/>\n",
       "<link href=\"img/favicon_io/favicon-32x32.png\" rel=\"icon\" sizes=\"32x32\" type=\"image/png\"/>\n",
       "<link href=\"img/favicon_io/favicon-16x16.png\" rel=\"icon\" sizes=\"16x16\" type=\"image/png\"/>\n",
       "<link href=\"img/favicon_io/site.webmanifest\" rel=\"manifest\"/>\n",
       "<link href=\"css/reset.css\" rel=\"stylesheet\"/>\n",
       "<link href=\"css/mobile.css\" rel=\"stylesheet\"/>\n",
       "<link href=\"css/tablet.css\" media=\"only all and (min-width:768px)\" rel=\"stylesheet\"/>\n",
       "<link href=\"css/pc.css\" media=\"only all and (min-width:1200px)\" rel=\"stylesheet\"/>\n",
       "<link href=\"css/animate.css\" rel=\"stylesheet\"/>\n",
       "<link href=\"owlcarousel/assets/owl.carousel.min.css\" rel=\"stylesheet\"/>\n",
       "<link href=\"owlcarousel/assets/owl.theme.default.min.css\" rel=\"stylesheet\"/>\n",
       "<link href=\"https://cdn.jsdelivr.net/gh/moonspam/NanumSquare@1.0/nanumsquare.css\" rel=\"stylesheet\"/>\n",
       "<script src=\"js/jqeury.min.js\"></script>\n",
       "<script src=\"js/event.js\"></script>\n",
       "<script src=\"js/wow.min.js\"></script>\n",
       "<script src=\"owlcarousel/owl.carousel.min.js\"></script>\n",
       "</head>\n",
       "<body> <header id=\"header\">\n",
       "<div class=\"width_wrap\">\n",
       "<h1><a href=\"index.html\">Eco marine</a></h1>\n",
       "<div class=\"gnb_wrap\">\n",
       "<ul class=\"gnb\">\n",
       "<li><a href=\"about.html\">About us</a></li>\n",
       "<li>\n",
       "<a href=\"satellite_ais.html\">Business</a>\n",
       "<ul>\n",
       "<li><a href=\"satellite_ais.html\">Satellite AIS</a></li>\n",
       "<li><a href=\"spire_global.html\">Spire Global</a></li>\n",
       "<li><a href=\"iot_device.html\">IoT Device</a></li>\n",
       "<li><a href=\"smart_ship.html\">Smart Ship</a></li>\n",
       "</ul>\n",
       "</li>\n",
       "<li><a href=\"contact.html\">Contact</a></li>\n",
       "<li><a href=\"marinetraffic.html\">MarineTraffic</a></li>\n",
       "</ul>\n",
       "</div>\n",
       "</div>\n",
       "</header> <div class=\"container\">\n",
       "<div class=\"m_gnb_btn\">\n",
       "<span class=\"menu-global menu-top\"></span>\n",
       "<span class=\"menu-global menu-middle\"></span>\n",
       "<span class=\"menu-global menu-bottom\"></span>\n",
       "</div>\n",
       "<div class=\"menu-list\">\n",
       "<ul class=\"mgnb\" id=\"mgnb\">\n",
       "<li><a href=\"about.html\">About us</a></li>\n",
       "<li role=\"toggle\">\n",
       "<a href=\"sub_02.html\">Business</a>\n",
       "<ul>\n",
       "<li><a href=\"satellite_ais.html\">Satellite AIS</a></li>\n",
       "<li><a href=\"spire_global.html\">Spire Global</a></li>\n",
       "<li><a href=\"iot_device.html\">IoT Device</a></li>\n",
       "<li><a href=\"smart_ship.html\">Smart Ship</a></li>\n",
       "</ul>\n",
       "</li>\n",
       "<li><a href=\"contact.html\">Contact</a></li>\n",
       "<li><a href=\"marinetraffic.html\">MarineTraffic</a></li>\n",
       "</ul>\n",
       "</div> <div class=\"sub_title\">\n",
       "<div class=\"width_wrap\">\n",
       "<h2 class=\"wow fadeInDown\" data-wow-delay=\".3s\" data-wow-duration=\"1s\">Satellite AIS</h2>\n",
       "<p class=\"wow fadeInDown\" data-wow-delay=\".5s\" data-wow-duration=\"1s\">We are providing AIS data and AIS driven cloud SaaS solution.</p>\n",
       "</div>\n",
       "<div class=\"sub_bg_area sub4\"></div>\n",
       "</div>\n",
       "<div class=\"section\">\n",
       "<div class=\"width_wrap\">\n",
       "<div class=\"sub_contents_1\">\n",
       "<h2 class=\"wow fadeInUp\" data-wow-delay=\".3s\" data-wow-duration=\"1s\">AIS Data Service</h2>\n",
       "<ul class=\"type_left\">\n",
       "<li class=\"title wow fadeInRight\" data-wow-delay=\".3s\" data-wow-duration=\"1s\">\n",
       "<!-- <img src=\"./img/spire_logo_white.svg\" alt=\"\" style=\"padding: 0 0 10px 20px;\"> -->\n",
       "<h3><img alt=\"\" src=\"./img/spire_logo_white.svg\" style=\"display: inline-block; vertical-align: text-bottom; margin-right: 10px;\"/>(+exactEarth) Satellite AIS</h3>\n",
       "<p>Spire acquired exactEarth on November 29, 2021.We Eco Marine sell AIS data both acquired from exactEarth constellation(IridiumNEXT) and from Spire Global’s own satellite constellation. </p>\n",
       "<p>Data Services are as follows.</p>\n",
       "<div class=\"list_text\">\n",
       "<p>Real time AIS data</p>\n",
       "<p>Historical AIS data</p>\n",
       "<p class=\"star\" style=\"color:#ffee23;\">Eco marine is an official reseller of Spire’s AIS data</p>\n",
       "</div>\n",
       "</li>\n",
       "<li class=\"post wow fadeInLeft\" data-wow-delay=\".8s\" data-wow-duration=\"1s\"><img alt=\"oceanlook map\" src=\"/img/ais_01.png\"/></li>\n",
       "</ul>\n",
       "<ul class=\"type_left\">\n",
       "<li class=\"title wow fadeInRight\" data-wow-delay=\".3s\" data-wow-duration=\"1s\">\n",
       "<h3>AIS Data Pre-treatment and Analytic Service</h3>\n",
       "<p>We provide various predicted information such as route prediction, port congestion, port code mapping by analyzing the vessel's track record based on AIS data. We are developing AIS data driven A.I and machine learning. We also provide data pre-processing and retrieve service for user to data easily as well. </p>\n",
       "<div class=\"list_text\">\n",
       "<p>Data Pre-treatment Service</p>\n",
       "<p>Data Analytic Service</p>\n",
       "<p>Develop A.I. Model</p>\n",
       "</div>\n",
       "</li>\n",
       "<li class=\"post wow fadeInLeft\" data-wow-delay=\".8s\" data-wow-duration=\"1s\"><img alt=\"oceanlook map\" src=\"/img/ais_02.png\"/></li>\n",
       "</ul>\n",
       "</div>\n",
       "<div class=\"borderLine\"></div>\n",
       "<h3 class=\"wow fadeInDown\" data-wow-delay=\".3s\" data-wow-duration=\"1s\"><img alt=\"oceanlook logo\" src=\"img/oceanlook_logo.png\" style=\"display: inline-block; vertical-align: top; margin-right: 10px; height:30px;\"/>AIS Cloud API Service</h3>\n",
       "<p class=\"wow fadeInDown\" data-wow-delay=\".4s\" data-wow-duration=\"1s\">Buy token to use API services. Customers are provided with the authority to issue and control ‘User tokens’ along with ‘Master Token’. Customer can control which vessels can be displayed by user. When a vessel is registered under the specific token, vessel’s current position can be displayed and various APIs can be used for the registered vessel.</p>\n",
       "<!-- <h3 class=\"wow fadeInDown\" data-wow-delay=\".5s\" data-wow-duration=\"1s\">API Service</h3> -->\n",
       "<div class=\"icon_content\">\n",
       "<ul class=\"list_4\">\n",
       "<li class=\"wow fadeInUp\" data-wow-delay=\"1s\" data-wow-duration=\"1s\">\n",
       "<!-- <div class=\"number\">01</div> -->\n",
       "<div class=\"icon mb_20\">\n",
       "<!-- <div class=\"comming\">comming soon</div> -->\n",
       "<img alt=\"Vessel Current Position\" src=\"/img/vessel_current_position.svg\"/>\n",
       "</div>\n",
       "<div class=\"title small\">Vessel Current Position</div>\n",
       "<div class=\"text text_center\">\n",
       "                                Return Latest Vessel Position such as Latitude, Longitude in real time.\n",
       "                            </div>\n",
       "</li>\n",
       "<li class=\"wow fadeInUp\" data-wow-delay=\"1.2s\" data-wow-duration=\"1s\">\n",
       "<div class=\"icon mb_20\"><img alt=\"A.I Port Code\" src=\"/img/ai_port_code.svg\"/></div>\n",
       "<div class=\"title small\">A.I Port Code Mapping</div>\n",
       "<div class=\"text text_center\">\n",
       "                                Manually Input AIS Destination input by Crew is automatically mapped to Port Code. \n",
       "                            </div>\n",
       "</li>\n",
       "<li class=\"wow fadeInUp\" data-wow-delay=\"1.4s\" data-wow-duration=\"1s\">\n",
       "<div class=\"icon mb_20\"><img alt=\"Port Call\" src=\"/img/port_call.svg\"/></div>\n",
       "<div class=\"title small\">Port Call</div>\n",
       "<div class=\"text text_center\">\n",
       "                                Provide with Port Code and Port Name which Vessel Visited in Last Months.\n",
       "                            </div>\n",
       "</li>\n",
       "<li class=\"wow fadeInUp\" data-wow-delay=\"1.6s\" data-wow-duration=\"1s\">\n",
       "<div class=\"icon mb_20\"><img alt=\"Geo Fence\" src=\"/img/geofence.svg\"/></div>\n",
       "<div class=\"title small\">Geo Fence</div>\n",
       "<div class=\"text text_center\">\n",
       "                                Detect and Provide Vessel’s Geofence Event such as In/Enter/Exit.\n",
       "                            </div>\n",
       "</li>\n",
       "<li class=\"wow fadeInUp\" data-wow-delay=\"1s\" data-wow-duration=\"1s\">\n",
       "<div class=\"icon mb_20\"><img alt=\"Future Track\" src=\"/img/future_track.svg\"/></div>\n",
       "<div class=\"title small\">Future Track</div>\n",
       "<div class=\"text text_center\">\n",
       "                                Provide Future Track Way Point with Expected Time to Destination Using AIS Data and Machine Learning.\n",
       "                            </div>\n",
       "</li>\n",
       "<li class=\"wow fadeInUp\" data-wow-delay=\"1.2s\" data-wow-duration=\"1s\">\n",
       "<div class=\"icon mb_20\"><img alt=\"Past Track\" src=\"/img/past_track.svg\"/></div>\n",
       "<div class=\"title small\">Past Track</div>\n",
       "<div class=\"text text_center\">\n",
       "                                Provide Past Track’s Way Point in Last Months.\n",
       "                            </div>\n",
       "</li>\n",
       "<li class=\"wow fadeInUp\" data-wow-delay=\"1.4s\" data-wow-duration=\"1s\">\n",
       "<div class=\"icon mb_20\"><img alt=\"Vessel List to Dest. Port\" src=\"/img/dest.svg\"/></div>\n",
       "<div class=\"title small\">Vessel List to Dest. Port</div>\n",
       "<div class=\"text text_center\">\n",
       "                                Provide Vessel List which Destinated for a Certain Port.\n",
       "                            </div>\n",
       "</li>\n",
       "<li class=\"wow fadeInUp\" data-wow-delay=\"1.6s\" data-wow-duration=\"1s\">\n",
       "<div class=\"icon mb_20\"><img alt=\"Search All Vessels\" src=\"/img/search_all.svg\"/></div>\n",
       "<div class=\"title small\">Search All Vessels</div>\n",
       "<div class=\"text text_center\">\n",
       "                                Search Global Vessel Past Position with Vessel ID such as Name, MMSI, IMO.\n",
       "                            </div>\n",
       "</li>\n",
       "<li class=\"wow fadeInUp\" data-wow-delay=\"1s\" data-wow-duration=\"1s\">\n",
       "<div class=\"icon mb_20\"><img alt=\"Port Congestion\" src=\"/img/port_congestion.svg\"/></div>\n",
       "<div class=\"title small\">Port Congestion</div>\n",
       "<div class=\"text text_center\">\n",
       "                                Provide Port Congestion Information such as Mean Time Waiting and Number of Waiting Vessels.\n",
       "                            </div>\n",
       "</li>\n",
       "<li class=\"wow fadeInUp\" data-wow-delay=\"1.2s\" data-wow-duration=\"1s\">\n",
       "<div class=\"icon mb_20\"><img alt=\"Weather Info\" src=\"/img/weather.svg\"/></div>\n",
       "<div class=\"title small\">Weather Info</div>\n",
       "<div class=\"text text_center\">\n",
       "                                Weather Information of the Ship’s Position and Port.\n",
       "                            </div>\n",
       "</li>\n",
       "<li class=\"wow fadeInUp\" data-wow-delay=\"1.4s\" data-wow-duration=\"1s\">\n",
       "<div class=\"icon mb_20\"><img alt=\"Historic Data by Area, Time\" src=\"/img/history.svg\"/></div>\n",
       "<div class=\"title small\">Historic Data by Area, Time</div>\n",
       "<div class=\"text text_center\">\n",
       "                                Filter Out Historical AIS Data by Area and Time\n",
       "                            </div>\n",
       "</li>\n",
       "<li class=\"wow fadeInUp\" data-wow-delay=\"1.6s\" data-wow-duration=\"1s\">\n",
       "<div class=\"icon mb_20\"><img alt=\"Ship Type Statistics\" src=\"/img/ship_type.svg\"/></div>\n",
       "<div class=\"title small\">Ship Type Statistics</div>\n",
       "<div class=\"text text_center\">\n",
       "                                Figure Out Number of Ships by Ship Type in a Certain Area.\n",
       "                            </div>\n",
       "</li>\n",
       "<li class=\"wow fadeInUp\" data-wow-delay=\"1s\" data-wow-duration=\"1s\">\n",
       "<div class=\"icon mb_20\"><img alt=\"B/L-IMO\" src=\"/img/bl_imo.svg\"/></div>\n",
       "<div class=\"title small\">B/L-IMO</div>\n",
       "<div class=\"text text_center\">\n",
       "                                Provide B/L together with Vessel ID such as IMO or MMSI.\n",
       "                            </div>\n",
       "</li>\n",
       "<li class=\"wow fadeInUp\" data-wow-delay=\"1.2s\" data-wow-duration=\"1s\">\n",
       "<div class=\"icon mb_20\"><img alt=\"Berth Assign Info\" src=\"/img/berth_assign.svg\"/></div>\n",
       "<div class=\"title small\">Berth Assign Info</div>\n",
       "<div class=\"text text_center\">\n",
       "                                Jetty of Pier Information which is Assigned to Vessels.\n",
       "                            </div>\n",
       "</li>\n",
       "<li class=\"wow fadeInUp\" data-wow-delay=\"1.4s\" data-wow-duration=\"1s\">\n",
       "<div class=\"icon mb_20\"><img alt=\"Ship Registry Info\" src=\"/img/ship_registry.svg\"/></div>\n",
       "<div class=\"title small\">Ship Registry Info</div>\n",
       "<div class=\"text text_center\">\n",
       "                                Provide Ships Registry Information such as Building Info, Dimension, Capacity.\n",
       "                            </div>\n",
       "</li>\n",
       "<li class=\"wow fadeInUp\" data-wow-delay=\"1.6s\" data-wow-duration=\"1s\">\n",
       "<div class=\"icon mb_20\"><img alt=\"Customer's Info Display\" src=\"/img/customers_info_display.svg\"/></div>\n",
       "<div class=\"title small\">Customer's Info Display</div>\n",
       "<div class=\"text text_center\">\n",
       "                                Customer Server Can Push Customer’s  Own Data to AIS Map to Be Shown Together With Vessel’s Position.\n",
       "                            </div>\n",
       "</li>\n",
       "</ul>\n",
       "</div>\n",
       "<div class=\"borderLine\"></div>\n",
       "<h3 class=\"wow fadeInDown\" data-wow-delay=\".3s\" data-wow-duration=\"1s\"><img alt=\"oceanlook logo\" src=\"img/oceanlook_logo.png\" style=\"display: inline-block; vertical-align: top; margin-right: 10px; height:30px;\"/>AIS Cloud Map Service</h3>\n",
       "<ul class=\"float_2\">\n",
       "<li>\n",
       "<h4>Embedded Map Service</h4>\n",
       "<p style=\"min-height: 83px\">Using the token issued to the Oceanlook user, the customer's json format data can be pushed from the customer to oceanlook, and the API provided by the oceanlook map service can be used together.</p>\n",
       "<p>\n",
       "<img alt=\"embedded demo\" src=\"./img/embedded.gif\"/>\n",
       "</p>\n",
       "</li>\n",
       "<li>\n",
       "<h4>Popup Map Service</h4>\n",
       "<p style=\"min-height: 83px\">You can check the location and detailed information of the vessel in the form of a popup through the token issued to the Oceanlook user and the mmsi number of the vessel you want to check.</p>\n",
       "<p>\n",
       "<img alt=\"popup demo\" src=\"./img/popup.gif\"/>\n",
       "</p>\n",
       "</li>\n",
       "</ul>\n",
       "<div class=\"sub_contents_1\">\n",
       "<!-- <ul class=\"type_right\">\n",
       "                        <li class=\"title wow fadeInRight\" data-wow-delay=\".3s\" data-wow-duration=\"1s\">\n",
       "                            <h2>Oceanlook Data Service</h2>\n",
       "                            <p>AIS data that collects vessel location information in real time is \n",
       "                                big data. We provide Oceanlook Analytic data service by API to customers \n",
       "                                who have difficulty in analyze AIS datab. You can reduce the construction \n",
       "                                database cost and use the analytic data with the best performance. \n",
       "                                Customer can get human input destination of AIS together with \n",
       "                                corrected destination, expected sail route with ETA by using \n",
       "                                ML(Machine Learning). We also provide each customer’s own \n",
       "                                geofencing data. ​</p>\n",
       "                        </li>\n",
       "                        <li class=\"post wow fadeInLeft\" data-wow-delay=\".8s\" data-wow-duration=\"1s\"><img src=\"/img/sub1_02.png\" alt=\"oceanlook map\"></li> -->\n",
       "\n",
       "</div>\n",
       "</div>\n",
       "</div>\n",
       "<div class=\"section\">\n",
       "<div class=\"contents_4 wow fadeInUp\" data-wow-delay=\".1s\" data-wow-duration=\"1s\">\n",
       "<div class=\"width_wrap\">\n",
       "<div class=\"support\">\n",
       "<div class=\"title wow fadeInDown\" data-wow-delay=\".3s\" data-wow-duration=\"1s\">How Can We Help?</div>\n",
       "<p class=\"wow fadeInDown\" data-wow-delay=\".6s\" data-wow-duration=\"1s\">Got a big creative project on the horizon? Reach out and we'll find a time to talk! </p>\n",
       "<a class=\"button wow fadeInDown\" data-wow-delay=\".8s\" data-wow-duration=\"1s\" href=\"/sub_03.html\">support</a>\n",
       "</div>\n",
       "</div>\n",
       "</div>\n",
       "</div> <div class=\"section\">\n",
       "<div class=\"contents_5 width_wrap\">\n",
       "<div class=\"f-logo wow fadeInLeft\" data-wow-delay=\".1s\" data-wow-duration=\"1s\"><img alt=\"eco marine logo\" src=\"img/ecomarine_f_logo.svg\"/></div>\n",
       "<div class=\"sitemap\">\n",
       "<ul class=\"wow fadeInUp\" data-wow-delay=\".3s\" data-wow-duration=\"1s\">\n",
       "<li><h2>ABOUT US</h2></li>\n",
       "<li><a href=\"about.html\">About us</a></li>\n",
       "<!-- <li><a href=\"\">R&D</a></li> -->\n",
       "</ul>\n",
       "<ul class=\"wow fadeInUp\" data-wow-delay=\".5s\" data-wow-duration=\"1s\">\n",
       "<li><h2>BUSINESS</h2></li>\n",
       "<li><a href=\"satellite_ais.html\">Satellite AIS</a></li>\n",
       "<li><a href=\"spire_global.html\">Spire Global</a></li>\n",
       "<li><a href=\"iot_device.html\">IoT Device</a></li>\n",
       "<li><a href=\"smart_ship.html\">Smart Ship</a></li>\n",
       "</ul>\n",
       "<ul class=\"wow fadeInUp\" data-wow-delay=\".7s\" data-wow-duration=\"1s\">\n",
       "<li><h2>SUPPORT</h2></li>\n",
       "<li><a href=\"contact.html\">Contact</a></li>\n",
       "</ul>\n",
       "</div>\n",
       "</div>\n",
       "</div> </div>\n",
       "<div class=\"width_wrap\">\n",
       "<div class=\"footer\">\n",
       "<div class=\"copy\">\n",
       "<span>© ecomarine</span>\n",
       "<!-- <a href=\"void(0);\" onclick=\"alert('준비중');return false;\">Terms</a>\n",
       "            <a href=\"void(0);\" onclick=\"alert('준비중');return false;\">Privacy</a> -->\n",
       "</div>\n",
       "<div class=\"sns\">\n",
       "<a class=\"sns-naver\" href=\"https://blog.naver.com/ecomarinesys\" target=\"_blank\"><img alt=\"naver blog\" src=\"img/sns-naver.png\"/></a>\n",
       "<a class=\"sns-naver\" href=\"https://www.youtube.com/channel/UCDHquiS5jVen7XOAK3AfUjA\" target=\"_blank\"><img alt=\"youtube\" src=\"img/sns-youtube.png\"/></a>\n",
       "</div>\n",
       "</div>\n",
       "</div>\n",
       "</body>\n",
       "</html>"
      ]
     },
     "execution_count": 10,
     "metadata": {},
     "output_type": "execute_result"
    }
   ],
   "source": [
    "url = 'http://www.ecomarinesys.co.kr/satellite_ais.html'\n",
    "res = requests.get(url)\n",
    "res.raise_for_status()\n",
    "\n",
    "html = BeautifulSoup(res.text, 'html.parser')\n",
    "html"
   ]
  },
  {
   "cell_type": "code",
   "execution_count": 11,
   "metadata": {},
   "outputs": [
    {
     "data": {
      "text/plain": [
       "[<h2 class=\"wow fadeInDown\" data-wow-delay=\".3s\" data-wow-duration=\"1s\">Satellite AIS</h2>,\n",
       " <h2 class=\"wow fadeInUp\" data-wow-delay=\".3s\" data-wow-duration=\"1s\">AIS Data Service</h2>,\n",
       " <h2>ABOUT US</h2>,\n",
       " <h2>BUSINESS</h2>,\n",
       " <h2>SUPPORT</h2>]"
      ]
     },
     "execution_count": 11,
     "metadata": {},
     "output_type": "execute_result"
    }
   ],
   "source": [
    "# 전체 페이지에서 h2 태그를 사용하는 값은 전부가져올걸\n",
    "html.select('h2')"
   ]
  },
  {
   "cell_type": "code",
   "execution_count": 14,
   "metadata": {},
   "outputs": [
    {
     "data": {
      "text/plain": [
       "[<h2 class=\"wow fadeInDown\" data-wow-delay=\".3s\" data-wow-duration=\"1s\">Satellite AIS</h2>,\n",
       " <h2 class=\"wow fadeInUp\" data-wow-delay=\".3s\" data-wow-duration=\"1s\">AIS Data Service</h2>]"
      ]
     },
     "execution_count": 14,
     "metadata": {},
     "output_type": "execute_result"
    }
   ],
   "source": [
    "# h2 태그 중에서 wow 클래스를 사용하고 있는 값 전부 가져올것\n",
    "html.select('h2.wow')"
   ]
  },
  {
   "cell_type": "code",
   "execution_count": 17,
   "metadata": {},
   "outputs": [
    {
     "data": {
      "text/plain": [
       "[<img alt=\"embedded demo\" src=\"./img/embedded.gif\"/>,\n",
       " <img alt=\"popup demo\" src=\"./img/popup.gif\"/>]"
      ]
     },
     "execution_count": 17,
     "metadata": {},
     "output_type": "execute_result"
    }
   ],
   "source": [
    "# ul 태그 중 float_2 클래스를 쓰고 있는 데이터 하위(>)에 있는 li 밑에 > p 태그 아래 > img 만 가져올걸\n",
    "html.select('ul.float_2 > li > p > img')"
   ]
  },
  {
   "cell_type": "code",
   "execution_count": 28,
   "metadata": {},
   "outputs": [
    {
     "data": {
      "text/plain": [
       "[<img alt=\"embedded demo\" src=\"./img/embedded.gif\"/>,\n",
       " <img alt=\"popup demo\" src=\"./img/popup.gif\"/>]"
      ]
     },
     "execution_count": 28,
     "metadata": {},
     "output_type": "execute_result"
    }
   ],
   "source": [
    "embed_img = html.select('ul.float_2 > li > p > img')\n",
    "embed_img"
   ]
  },
  {
   "cell_type": "code",
   "execution_count": 32,
   "metadata": {},
   "outputs": [
    {
     "name": "stdout",
     "output_type": "stream",
     "text": [
      "embedded.gif\n"
     ]
    },
    {
     "ename": "TimeoutError",
     "evalue": "[WinError 10060] 연결된 구성원으로부터 응답이 없어 연결하지 못했거나, 호스트로부터 응답이 없어 연결이 끊어졌습니다",
     "output_type": "error",
     "traceback": [
      "\u001b[1;31m---------------------------------------------------------------------------\u001b[0m",
      "\u001b[1;31mTimeoutError\u001b[0m                              Traceback (most recent call last)",
      "Cell \u001b[1;32mIn[32], line 10\u001b[0m\n\u001b[0;32m      8\u001b[0m dest \u001b[39m=\u001b[39m src\u001b[39m.\u001b[39mreplace(\u001b[39m'\u001b[39m\u001b[39m./img/\u001b[39m\u001b[39m'\u001b[39m, \u001b[39m'\u001b[39m\u001b[39m'\u001b[39m)\n\u001b[0;32m      9\u001b[0m \u001b[39mprint\u001b[39m(dest)\n\u001b[1;32m---> 10\u001b[0m req\u001b[39m.\u001b[39;49murlretrieve(link, \u001b[39mf\u001b[39;49m\u001b[39m'\u001b[39;49m\u001b[39m./\u001b[39;49m\u001b[39m{\u001b[39;49;00mdest\u001b[39m}\u001b[39;49;00m\u001b[39m'\u001b[39;49m)\n",
      "File \u001b[1;32mc:\\Program Files\\Python311\\Lib\\urllib\\request.py:241\u001b[0m, in \u001b[0;36murlretrieve\u001b[1;34m(url, filename, reporthook, data)\u001b[0m\n\u001b[0;32m    224\u001b[0m \u001b[39m\u001b[39m\u001b[39m\"\"\"\u001b[39;00m\n\u001b[0;32m    225\u001b[0m \u001b[39mRetrieve a URL into a temporary location on disk.\u001b[39;00m\n\u001b[0;32m    226\u001b[0m \n\u001b[1;32m   (...)\u001b[0m\n\u001b[0;32m    237\u001b[0m \u001b[39mdata file as well as the resulting HTTPMessage object.\u001b[39;00m\n\u001b[0;32m    238\u001b[0m \u001b[39m\"\"\"\u001b[39;00m\n\u001b[0;32m    239\u001b[0m url_type, path \u001b[39m=\u001b[39m _splittype(url)\n\u001b[1;32m--> 241\u001b[0m \u001b[39mwith\u001b[39;00m contextlib\u001b[39m.\u001b[39mclosing(urlopen(url, data)) \u001b[39mas\u001b[39;00m fp:\n\u001b[0;32m    242\u001b[0m     headers \u001b[39m=\u001b[39m fp\u001b[39m.\u001b[39minfo()\n\u001b[0;32m    244\u001b[0m     \u001b[39m# Just return the local path and the \"headers\" for file://\u001b[39;00m\n\u001b[0;32m    245\u001b[0m     \u001b[39m# URLs. No sense in performing a copy unless requested.\u001b[39;00m\n",
      "File \u001b[1;32mc:\\Program Files\\Python311\\Lib\\urllib\\request.py:216\u001b[0m, in \u001b[0;36murlopen\u001b[1;34m(url, data, timeout, cafile, capath, cadefault, context)\u001b[0m\n\u001b[0;32m    214\u001b[0m \u001b[39melse\u001b[39;00m:\n\u001b[0;32m    215\u001b[0m     opener \u001b[39m=\u001b[39m _opener\n\u001b[1;32m--> 216\u001b[0m \u001b[39mreturn\u001b[39;00m opener\u001b[39m.\u001b[39;49mopen(url, data, timeout)\n",
      "File \u001b[1;32mc:\\Program Files\\Python311\\Lib\\urllib\\request.py:519\u001b[0m, in \u001b[0;36mOpenerDirector.open\u001b[1;34m(self, fullurl, data, timeout)\u001b[0m\n\u001b[0;32m    516\u001b[0m     req \u001b[39m=\u001b[39m meth(req)\n\u001b[0;32m    518\u001b[0m sys\u001b[39m.\u001b[39maudit(\u001b[39m'\u001b[39m\u001b[39murllib.Request\u001b[39m\u001b[39m'\u001b[39m, req\u001b[39m.\u001b[39mfull_url, req\u001b[39m.\u001b[39mdata, req\u001b[39m.\u001b[39mheaders, req\u001b[39m.\u001b[39mget_method())\n\u001b[1;32m--> 519\u001b[0m response \u001b[39m=\u001b[39m \u001b[39mself\u001b[39;49m\u001b[39m.\u001b[39;49m_open(req, data)\n\u001b[0;32m    521\u001b[0m \u001b[39m# post-process response\u001b[39;00m\n\u001b[0;32m    522\u001b[0m meth_name \u001b[39m=\u001b[39m protocol\u001b[39m+\u001b[39m\u001b[39m\"\u001b[39m\u001b[39m_response\u001b[39m\u001b[39m\"\u001b[39m\n",
      "File \u001b[1;32mc:\\Program Files\\Python311\\Lib\\urllib\\request.py:536\u001b[0m, in \u001b[0;36mOpenerDirector._open\u001b[1;34m(self, req, data)\u001b[0m\n\u001b[0;32m    533\u001b[0m     \u001b[39mreturn\u001b[39;00m result\n\u001b[0;32m    535\u001b[0m protocol \u001b[39m=\u001b[39m req\u001b[39m.\u001b[39mtype\n\u001b[1;32m--> 536\u001b[0m result \u001b[39m=\u001b[39m \u001b[39mself\u001b[39;49m\u001b[39m.\u001b[39;49m_call_chain(\u001b[39mself\u001b[39;49m\u001b[39m.\u001b[39;49mhandle_open, protocol, protocol \u001b[39m+\u001b[39;49m\n\u001b[0;32m    537\u001b[0m                           \u001b[39m'\u001b[39;49m\u001b[39m_open\u001b[39;49m\u001b[39m'\u001b[39;49m, req)\n\u001b[0;32m    538\u001b[0m \u001b[39mif\u001b[39;00m result:\n\u001b[0;32m    539\u001b[0m     \u001b[39mreturn\u001b[39;00m result\n",
      "File \u001b[1;32mc:\\Program Files\\Python311\\Lib\\urllib\\request.py:496\u001b[0m, in \u001b[0;36mOpenerDirector._call_chain\u001b[1;34m(self, chain, kind, meth_name, *args)\u001b[0m\n\u001b[0;32m    494\u001b[0m \u001b[39mfor\u001b[39;00m handler \u001b[39min\u001b[39;00m handlers:\n\u001b[0;32m    495\u001b[0m     func \u001b[39m=\u001b[39m \u001b[39mgetattr\u001b[39m(handler, meth_name)\n\u001b[1;32m--> 496\u001b[0m     result \u001b[39m=\u001b[39m func(\u001b[39m*\u001b[39;49margs)\n\u001b[0;32m    497\u001b[0m     \u001b[39mif\u001b[39;00m result \u001b[39mis\u001b[39;00m \u001b[39mnot\u001b[39;00m \u001b[39mNone\u001b[39;00m:\n\u001b[0;32m    498\u001b[0m         \u001b[39mreturn\u001b[39;00m result\n",
      "File \u001b[1;32mc:\\Program Files\\Python311\\Lib\\urllib\\request.py:1377\u001b[0m, in \u001b[0;36mHTTPHandler.http_open\u001b[1;34m(self, req)\u001b[0m\n\u001b[0;32m   1376\u001b[0m \u001b[39mdef\u001b[39;00m \u001b[39mhttp_open\u001b[39m(\u001b[39mself\u001b[39m, req):\n\u001b[1;32m-> 1377\u001b[0m     \u001b[39mreturn\u001b[39;00m \u001b[39mself\u001b[39;49m\u001b[39m.\u001b[39;49mdo_open(http\u001b[39m.\u001b[39;49mclient\u001b[39m.\u001b[39;49mHTTPConnection, req)\n",
      "File \u001b[1;32mc:\\Program Files\\Python311\\Lib\\urllib\\request.py:1352\u001b[0m, in \u001b[0;36mAbstractHTTPHandler.do_open\u001b[1;34m(self, http_class, req, **http_conn_args)\u001b[0m\n\u001b[0;32m   1350\u001b[0m     \u001b[39mexcept\u001b[39;00m \u001b[39mOSError\u001b[39;00m \u001b[39mas\u001b[39;00m err: \u001b[39m# timeout error\u001b[39;00m\n\u001b[0;32m   1351\u001b[0m         \u001b[39mraise\u001b[39;00m URLError(err)\n\u001b[1;32m-> 1352\u001b[0m     r \u001b[39m=\u001b[39m h\u001b[39m.\u001b[39;49mgetresponse()\n\u001b[0;32m   1353\u001b[0m \u001b[39mexcept\u001b[39;00m:\n\u001b[0;32m   1354\u001b[0m     h\u001b[39m.\u001b[39mclose()\n",
      "File \u001b[1;32mc:\\Program Files\\Python311\\Lib\\http\\client.py:1378\u001b[0m, in \u001b[0;36mHTTPConnection.getresponse\u001b[1;34m(self)\u001b[0m\n\u001b[0;32m   1376\u001b[0m \u001b[39mtry\u001b[39;00m:\n\u001b[0;32m   1377\u001b[0m     \u001b[39mtry\u001b[39;00m:\n\u001b[1;32m-> 1378\u001b[0m         response\u001b[39m.\u001b[39;49mbegin()\n\u001b[0;32m   1379\u001b[0m     \u001b[39mexcept\u001b[39;00m \u001b[39mConnectionError\u001b[39;00m:\n\u001b[0;32m   1380\u001b[0m         \u001b[39mself\u001b[39m\u001b[39m.\u001b[39mclose()\n",
      "File \u001b[1;32mc:\\Program Files\\Python311\\Lib\\http\\client.py:318\u001b[0m, in \u001b[0;36mHTTPResponse.begin\u001b[1;34m(self)\u001b[0m\n\u001b[0;32m    316\u001b[0m \u001b[39m# read until we get a non-100 response\u001b[39;00m\n\u001b[0;32m    317\u001b[0m \u001b[39mwhile\u001b[39;00m \u001b[39mTrue\u001b[39;00m:\n\u001b[1;32m--> 318\u001b[0m     version, status, reason \u001b[39m=\u001b[39m \u001b[39mself\u001b[39;49m\u001b[39m.\u001b[39;49m_read_status()\n\u001b[0;32m    319\u001b[0m     \u001b[39mif\u001b[39;00m status \u001b[39m!=\u001b[39m CONTINUE:\n\u001b[0;32m    320\u001b[0m         \u001b[39mbreak\u001b[39;00m\n",
      "File \u001b[1;32mc:\\Program Files\\Python311\\Lib\\http\\client.py:279\u001b[0m, in \u001b[0;36mHTTPResponse._read_status\u001b[1;34m(self)\u001b[0m\n\u001b[0;32m    278\u001b[0m \u001b[39mdef\u001b[39;00m \u001b[39m_read_status\u001b[39m(\u001b[39mself\u001b[39m):\n\u001b[1;32m--> 279\u001b[0m     line \u001b[39m=\u001b[39m \u001b[39mstr\u001b[39m(\u001b[39mself\u001b[39m\u001b[39m.\u001b[39mfp\u001b[39m.\u001b[39mreadline(_MAXLINE \u001b[39m+\u001b[39m \u001b[39m1\u001b[39m), \u001b[39m\"\u001b[39m\u001b[39miso-8859-1\u001b[39m\u001b[39m\"\u001b[39m)\n\u001b[0;32m    280\u001b[0m     \u001b[39mif\u001b[39;00m \u001b[39mlen\u001b[39m(line) \u001b[39m>\u001b[39m _MAXLINE:\n\u001b[0;32m    281\u001b[0m         \u001b[39mraise\u001b[39;00m LineTooLong(\u001b[39m\"\u001b[39m\u001b[39mstatus line\u001b[39m\u001b[39m\"\u001b[39m)\n",
      "File \u001b[1;32mc:\\Program Files\\Python311\\Lib\\socket.py:706\u001b[0m, in \u001b[0;36mSocketIO.readinto\u001b[1;34m(self, b)\u001b[0m\n\u001b[0;32m    704\u001b[0m \u001b[39mwhile\u001b[39;00m \u001b[39mTrue\u001b[39;00m:\n\u001b[0;32m    705\u001b[0m     \u001b[39mtry\u001b[39;00m:\n\u001b[1;32m--> 706\u001b[0m         \u001b[39mreturn\u001b[39;00m \u001b[39mself\u001b[39;49m\u001b[39m.\u001b[39;49m_sock\u001b[39m.\u001b[39;49mrecv_into(b)\n\u001b[0;32m    707\u001b[0m     \u001b[39mexcept\u001b[39;00m timeout:\n\u001b[0;32m    708\u001b[0m         \u001b[39mself\u001b[39m\u001b[39m.\u001b[39m_timeout_occurred \u001b[39m=\u001b[39m \u001b[39mTrue\u001b[39;00m\n",
      "\u001b[1;31mTimeoutError\u001b[0m: [WinError 10060] 연결된 구성원으로부터 응답이 없어 연결하지 못했거나, 호스트로부터 응답이 없어 연결이 끊어졌습니다"
     ]
    }
   ],
   "source": [
    "import urllib.request as req\n",
    "\n",
    "base_ur = 'http://www.ecomarinesys.co.kr/'\n",
    "\n",
    "for i, img in enumerate(embed_img):\n",
    "    src = img.get('src') # img['src']\n",
    "    link = base_ur + src\n",
    "    dest = src.replace('./img/', '')\n",
    "    print(dest)\n",
    "    req.urlretrieve(link, f'./{dest}')"
   ]
  },
  {
   "cell_type": "code",
   "execution_count": 33,
   "metadata": {},
   "outputs": [
    {
     "name": "stdout",
     "output_type": "stream",
     "text": [
      "Collecting user_agent\n",
      "  Downloading user_agent-0.1.10.tar.gz (20 kB)\n",
      "  Installing build dependencies: started\n",
      "  Installing build dependencies: finished with status 'done'\n",
      "  Getting requirements to build wheel: started\n",
      "  Getting requirements to build wheel: finished with status 'done'\n",
      "  Preparing metadata (pyproject.toml): started\n",
      "  Preparing metadata (pyproject.toml): finished with status 'done'\n",
      "Requirement already satisfied: six in c:\\program files\\python311\\lib\\site-packages (from user_agent) (1.16.0)\n",
      "Building wheels for collected packages: user_agent\n",
      "  Building wheel for user_agent (pyproject.toml): started\n",
      "  Building wheel for user_agent (pyproject.toml): finished with status 'done'\n",
      "  Created wheel for user_agent: filename=user_agent-0.1.10-py3-none-any.whl size=18993 sha256=f0e4b23577ce233b0ea217d8bd3547f2b9642ce89c0006a9ae47dbae8d8df09c\n",
      "  Stored in directory: c:\\users\\administrator\\appdata\\local\\pip\\cache\\wheels\\af\\8d\\80\\408f945b80d430cca5fd4ae6d9390fa6f053b1cff8f052016c\n",
      "Successfully built user_agent\n",
      "Installing collected packages: user_agent\n",
      "Successfully installed user_agent-0.1.10\n"
     ]
    },
    {
     "name": "stderr",
     "output_type": "stream",
     "text": [
      "  WARNING: Retrying (Retry(total=4, connect=None, read=None, redirect=None, status=None)) after connection broken by 'NewConnectionError('<pip._vendor.urllib3.connection.HTTPSConnection object at 0x0000018C076E6750>: Failed to establish a new connection: [WinError 10061] 대상 컴퓨터에서 연결을 거부했으므로 연결하지 못했습니다')': /packages/b5/db/559a95b7cc146b269a0cc4cb7a53471ddd270ce9b29f23a5ed5e118acd4e/user_agent-0.1.10.tar.gz\n"
     ]
    }
   ],
   "source": [
    "!pip install user_agent"
   ]
  },
  {
   "cell_type": "code",
   "execution_count": 34,
   "metadata": {},
   "outputs": [],
   "source": [
    "# from user_agent import generate_user_agent, generate_navigator\n",
    "from bs4 import BeautifulSoup\n",
    "import requests\n",
    "\n",
    "url = 'http://www.ecomarinesys.co.kr/satellite_ais.html'\n",
    "res = requests.get(url)\n",
    "res.raise_for_status()\n",
    "\n",
    "html = BeautifulSoup(res.text, 'html.parser')\n"
   ]
  },
  {
   "cell_type": "code",
   "execution_count": 35,
   "metadata": {},
   "outputs": [
    {
     "data": {
      "text/plain": [
       "[<h2 class=\"wow fadeInDown\" data-wow-delay=\".3s\" data-wow-duration=\"1s\">Satellite AIS</h2>,\n",
       " <h2 class=\"wow fadeInUp\" data-wow-delay=\".3s\" data-wow-duration=\"1s\">AIS Data Service</h2>,\n",
       " <h2>ABOUT US</h2>,\n",
       " <h2>BUSINESS</h2>,\n",
       " <h2>SUPPORT</h2>]"
      ]
     },
     "execution_count": 35,
     "metadata": {},
     "output_type": "execute_result"
    }
   ],
   "source": [
    "# 전체 페이지에서 h2 태그를 사용하는 값은 전부 가져올것\n",
    "html.select('h2')"
   ]
  },
  {
   "cell_type": "code",
   "execution_count": 51,
   "metadata": {},
   "outputs": [
    {
     "data": {
      "text/plain": [
       "[<img alt=\"oceanlook logo\" src=\"img/oceanlook_logo.png\" style=\"display: inline-block; vertical-align: top; margin-right: 10px; height:30px;\"/>,\n",
       " <img alt=\"embedded demo\" src=\"./img/embedded.gif\"/>,\n",
       " <img alt=\"popup demo\" src=\"./img/popup.gif\"/>]"
      ]
     },
     "execution_count": 51,
     "metadata": {},
     "output_type": "execute_result"
    }
   ],
   "source": [
    "embed_img = html.select('img')[20:23] # [20:23]\n",
    "embed_img"
   ]
  },
  {
   "cell_type": "code",
   "execution_count": 52,
   "metadata": {},
   "outputs": [
    {
     "name": "stdout",
     "output_type": "stream",
     "text": [
      "oceanlook_logo.png 저장완료!\n",
      "embedded.gif 저장완료!\n",
      "popup.gif 저장완료!\n"
     ]
    }
   ],
   "source": [
    "import requests\n",
    "\n",
    "base_url = 'http://www.ecomarinesys.co.kr/'\n",
    "\n",
    "for index, image in enumerate(embed_img):\n",
    "    img_url = image['src']\n",
    "    dest_url = base_url + img_url\n",
    "    tmp = img_url.split('/')\n",
    "    fileName = tmp[len(tmp) - 1]\n",
    "\n",
    "    img_res =requests.get(dest_url)\n",
    "    img_res.raise_for_status() # 200 또는 예외 발생\n",
    "\n",
    "    with open(f'{fileName}', mode='wb') as f:\n",
    "        f.write(img_res.content) # 이미지 저장 핵심\n",
    "        print(f'{fileName} 저장완료!')\n",
    "    "
   ]
  }
 ],
 "metadata": {
  "kernelspec": {
   "display_name": "Python 3",
   "language": "python",
   "name": "python3"
  },
  "language_info": {
   "codemirror_mode": {
    "name": "ipython",
    "version": 3
   },
   "file_extension": ".py",
   "mimetype": "text/x-python",
   "name": "python",
   "nbconvert_exporter": "python",
   "pygments_lexer": "ipython3",
   "version": "3.11.4"
  },
  "orig_nbformat": 4,
  "vscode": {
   "interpreter": {
    "hash": "5238573367df39f7286bb46f9ff5f08f63a01a80960060ce41e3c79b190280fa"
   }
  }
 },
 "nbformat": 4,
 "nbformat_minor": 2
}
